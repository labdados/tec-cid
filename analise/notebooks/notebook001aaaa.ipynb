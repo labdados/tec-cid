{
 "cells": [
  {
   "cell_type": "code",
   "execution_count": 2,
   "metadata": {},
   "outputs": [],
   "source": [
    "import pandas as pd\n",
    "import matplotlib.pyplot as plt"
   ]
  },
  {
   "cell_type": "code",
   "execution_count": 3,
   "metadata": {},
   "outputs": [],
   "source": [
    "lic = pd.read_csv(\"propostas_licitacao.txt\", sep=\"|\", dtype={'cod_unidade_gestora': int,'numero_licitacao': str,'cod_tipo_licitacao': int,\n",
    "                                                   'qtd_ofertada': int,'unidade_gestora': str, 'tipo_licitacao': str, \n",
    "                                                   'cpf_cnpj': str,'nome_proponente': str, 'situacao_proposta': str})"
   ]
  },
  {
   "cell_type": "code",
   "execution_count": 4,
   "metadata": {},
   "outputs": [
    {
     "data": {
      "text/plain": [
       "cod_unidade_gestora      int32\n",
       "unidade_gestora         object\n",
       "numero_licitacao        object\n",
       "cod_tipo_licitacao       int32\n",
       "tipo_licitacao          object\n",
       "cpf_cnpj                object\n",
       "nome_proponente         object\n",
       "qtd_ofertada             int32\n",
       "valor_ofertado         float64\n",
       "situacao_proposta       object\n",
       "dtype: object"
      ]
     },
     "execution_count": 4,
     "metadata": {},
     "output_type": "execute_result"
    }
   ],
   "source": [
    "lic.dtypes"
   ]
  },
  {
   "cell_type": "code",
   "execution_count": 5,
   "metadata": {},
   "outputs": [],
   "source": [
    "aa = lic[['nome_proponente','situacao_proposta']][lic['situacao_proposta']=='Vencedora']"
   ]
  },
  {
   "cell_type": "code",
   "execution_count": 6,
   "metadata": {},
   "outputs": [
    {
     "data": {
      "text/plain": [
       "<pandas.core.groupby.generic.SeriesGroupBy object at 0x00000242AB9DF6A0>"
      ]
     },
     "execution_count": 6,
     "metadata": {},
     "output_type": "execute_result"
    }
   ],
   "source": [
    "lic['nome_proponente'].groupby(lic['situacao_proposta']=='Vencedora')"
   ]
  },
  {
   "cell_type": "code",
   "execution_count": 7,
   "metadata": {},
   "outputs": [
    {
     "data": {
      "text/plain": [
       "1                  RONILDO LEITE MANIÇOBA  E CIA LTDA\n",
       "2                  RONILDO LEITE MANIÇOBA  E CIA LTDA\n",
       "3                ILZANI TRIGUEIRO TERTULIANO MEDEIROS\n",
       "4                ILZANI TRIGUEIRO TERTULIANO MEDEIROS\n",
       "5                         REGINALDO FERNANDES MACHADO\n",
       "6                         REGINALDO FERNANDES MACHADO\n",
       "7                         REGINALDO FERNANDES MACHADO\n",
       "8         ASTEC GROUP CONTADORES ASSICIADOS S/S LTDA.\n",
       "9         ASTEC GROUP CONTADORES ASSICIADOS S/S LTDA.\n",
       "10          PENUCAR-COM. DE PNEUS, PEÇAS E SERV. LTDA\n",
       "11                ALCAM - ASSES CONT LEGISLATIVA E AD\n",
       "12                         JOSE LAEDSON ANDRADE SILVA\n",
       "13                         JOSE LAEDSON ANDRADE SILVA\n",
       "29                            FLAVIANO PAULO DA SILVA\n",
       "30                           JOSE ANCHIETA DOS SANTOS\n",
       "31                           JOSE ANCHIETA DOS SANTOS\n",
       "33                           DAMIÃO SABINO DOS SANTOS\n",
       "34                           DAMIÃO SABINO DOS SANTOS\n",
       "36                              NUNES & OLIVEIRA LTDA\n",
       "37                              NUNES & OLIVEIRA LTDA\n",
       "38                         VALDECI PEREIRA DOS SANTOS\n",
       "39                         VALDECI PEREIRA DOS SANTOS\n",
       "45             MARIA IZABEL SOARTES CAVALCANTI PONTES\n",
       "46                             JOAO JOSE MACIEL ALVES\n",
       "48               IMPLANTAR - PROJETOS E SERVIÇOS LTDA\n",
       "50                                      AROLDO DANTAS\n",
       "51                                      AROLDO DANTAS\n",
       "53                                JOAO DE MELO ARAUJO\n",
       "54                                JOAO DE MELO ARAUJO\n",
       "55                                JOAO DE MELO ARAUJO\n",
       "                             ...                     \n",
       "441335                  FONTES ADVOGADOS & ASSOCIADOS\n",
       "441336                  FONTES ADVOGADOS & ASSOCIADOS\n",
       "441337                  FONTES ADVOGADOS & ASSOCIADOS\n",
       "441338                        AGE CONTABILIDADE LTDA.\n",
       "441339                        AGE CONTABILIDADE LTDA.\n",
       "441340                        AGE CONTABILIDADE LTDA.\n",
       "441341                        AGE CONTABILIDADE LTDA.\n",
       "441342             PRUMOS CONSTRUÇÕES E SERVIÇOS LTDA\n",
       "441343                             RADIO LIBERDADE FM\n",
       "441346                        COVALE CONSTRUÇÕES LTDA\n",
       "441350                      JAQUELINE FERREIRA AQUINO\n",
       "441351                      JAQUELINE FERREIRA AQUINO\n",
       "441352                      JAQUELINE FERREIRA AQUINO\n",
       "441355        DICAL DIST. DE VEICULOS CAJAZEIRAS LTDA\n",
       "441356        PJS DISTRIBUIDORA JOSE NERGINO SOBREIRA\n",
       "441357        PJS DISTRIBUIDORA JOSE NERGINO SOBREIRA\n",
       "441358        PJS DISTRIBUIDORA JOSE NERGINO SOBREIRA\n",
       "441359        PJS DISTRIBUIDORA JOSE NERGINO SOBREIRA\n",
       "441360        PJS DISTRIBUIDORA JOSE NERGINO SOBREIRA\n",
       "441361        PJS DISTRIBUIDORA JOSE NERGINO SOBREIRA\n",
       "441362                  Ricardo Pereira do Nascimento\n",
       "441363                  Ricardo Pereira do Nascimento\n",
       "441364                  Ricardo Pereira do Nascimento\n",
       "441365                    SEBASTIÃO MESQUITA DE SOUZA\n",
       "441366                    SEBASTIÃO MESQUITA DE SOUZA\n",
       "441367                    SEBASTIÃO MESQUITA DE SOUZA\n",
       "441368                                            NaN\n",
       "441369                                            NaN\n",
       "441370                                            NaN\n",
       "441371                                            NaN\n",
       "Name: nome_proponente, Length: 309157, dtype: object"
      ]
     },
     "execution_count": 7,
     "metadata": {},
     "output_type": "execute_result"
    }
   ],
   "source": [
    "ll = lic['nome_proponente'].groupby(lic['situacao_proposta'])\n",
    "ll.get_group('Vencedora')"
   ]
  },
  {
   "cell_type": "code",
   "execution_count": 8,
   "metadata": {},
   "outputs": [
    {
     "data": {
      "text/plain": [
       "203963                                   Ótica Central Ltda\n",
       "393273                                   ÓTICA PUPILA LTDA.\n",
       "411984                                    ÓTICA PUPILA LTDA\n",
       "411985                                    ÓTICA PUPILA LTDA\n",
       "127785                                 ÓTICA BOM LUGAR LTDA\n",
       "288699                                ÍTALO GARCIA DE SOUSA\n",
       "411081                            ÍTALO DE OLIVEIRA LACERDA\n",
       "691                                  ÍRIO DANTAS DA NÓBREGA\n",
       "689                                  ÍRIO DANTAS DA NÓBREGA\n",
       "688                                  ÍRIO DANTAS DA NÓBREGA\n",
       "367397                                Ênio Silva Nascimento\n",
       "352570    ÊXITO DISTRIBUIDORA DE MEDICAMENTOS E MATERIAL...\n",
       "161731                                Élson Matias da Silva\n",
       "379417                          ÉRICA MARIA OLIVEIRA COELHO\n",
       "379421                          ÉRICA MARIA OLIVEIRA COELHO\n",
       "379419                          ÉRICA MARIA OLIVEIRA COELHO\n",
       "379422                          ÉRICA MARIA OLIVEIRA COELHO\n",
       "379418                          ÉRICA MARIA OLIVEIRA COELHO\n",
       "379416                          ÉRICA MARIA OLIVEIRA COELHO\n",
       "379420                          ÉRICA MARIA OLIVEIRA COELHO\n",
       "236105                                     ÉRICA DIAS LEITE\n",
       "354311                                ÉPURA ENGENHARIA LTDA\n",
       "132165            ÉLSON SINFRÔNIO PEREIRA- PAGODÃO SENSUART\n",
       "438416                    ÉLDER WAGNER MONTEIRO DE OLIVEIRA\n",
       "438413                    ÉLDER WAGNER MONTEIRO DE OLIVEIRA\n",
       "438414                    ÉLDER WAGNER MONTEIRO DE OLIVEIRA\n",
       "438412                    ÉLDER WAGNER MONTEIRO DE OLIVEIRA\n",
       "438415                    ÉLDER WAGNER MONTEIRO DE OLIVEIRA\n",
       "438417                    ÉLDER WAGNER MONTEIRO DE OLIVEIRA\n",
       "438418                    ÉLDER WAGNER MONTEIRO DE OLIVEIRA\n",
       "                                ...                        \n",
       "437102                                                  NaN\n",
       "437161                                                  NaN\n",
       "437163                                                  NaN\n",
       "437164                                                  NaN\n",
       "437165                                                  NaN\n",
       "437166                                                  NaN\n",
       "437167                                                  NaN\n",
       "437993                                                  NaN\n",
       "438383                                                  NaN\n",
       "438384                                                  NaN\n",
       "438385                                                  NaN\n",
       "438386                                                  NaN\n",
       "438387                                                  NaN\n",
       "438538                                                  NaN\n",
       "438539                                                  NaN\n",
       "438540                                                  NaN\n",
       "438541                                                  NaN\n",
       "438542                                                  NaN\n",
       "438554                                                  NaN\n",
       "438555                                                  NaN\n",
       "438556                                                  NaN\n",
       "438557                                                  NaN\n",
       "438558                                                  NaN\n",
       "438559                                                  NaN\n",
       "438560                                                  NaN\n",
       "438561                                                  NaN\n",
       "441368                                                  NaN\n",
       "441369                                                  NaN\n",
       "441370                                                  NaN\n",
       "441371                                                  NaN\n",
       "Name: nome_proponente, Length: 309157, dtype: object"
      ]
     },
     "execution_count": 8,
     "metadata": {},
     "output_type": "execute_result"
    }
   ],
   "source": [
    "ll.get_group('Vencedora').sort_values(ascending=False) "
   ]
  },
  {
   "cell_type": "code",
   "execution_count": 9,
   "metadata": {},
   "outputs": [
    {
     "data": {
      "text/plain": [
       "nome_proponente\n",
       "CIRUFARMA COMERCIAL LTDA                                            928\n",
       "JOSE NERGINO SOBREIRA                                               367\n",
       "TECNOCENTER MATERIAIS MEDICOS HOSPITALARES LTDA                     361\n",
       "DROGAFONTE LTDA                                                     328\n",
       "RAIMUNDO ADELMAR FONSECA PIRES                                      321\n",
       "NNMED-DISTRIBUICAO, IMPORTACAO E EXPORTACAO DE MEDICAMENTOS LTDA    302\n",
       "CRM COMERCIAL LTDA                                                  301\n",
       "B J COMERCIO DE ALIMENTOS LTDA                                      296\n",
       "FIORI VEICOLO LTDA                                                  273\n",
       "COMERCIAL MEDEIROS LTDA                                             252\n",
       "ELMAR PROCESSAMENTO DE DADOS LTDA                                   252\n",
       "EDILANE DA COSTA CARVALHO                                           248\n",
       "VENDE TUDO MAGAZINE LTDA                                            242\n",
       "CELIA FRANCISCO DE CARVALHO                                         240\n",
       "LEIA COMERCIAL DE LIVROS E MAGAZINE LTDA                            236\n",
       "PNEUMAX LTDA                                                        230\n",
       "DENTALMED COMERCIO E REP LTDA                                       225\n",
       "FARMAGUEDES                                                         221\n",
       "IRAMILTON SATIRO DA NOBREGA                                         219\n",
       "NORDESTE HOSPITALAR LTDA                                            214\n",
       "PONTUAL DISTRIBUIDORA DE MEDICAMENTOS LTDA                          212\n",
       "LECITA COMÉRCIO DE MATERIAL PARA ESCRITÓRIO LTDA                    209\n",
       "THOMAS JOSE BELTRAO DE ARAUJO ALBUQUERQUE - ME                      204\n",
       "JOSE WALTER DA COSTA ME - J C PRODUÇÕES                             201\n",
       "ASTEC GROUP CONTADORES ASSOCIADOS S/S LTDA                          200\n",
       "SANTOS & LUCENA LTDA                                                195\n",
       "FRANCISCO AUGUSTO SANTOS BRASIL  - VIA BRASIL PAPELARIA             195\n",
       "MEDFARMACY HOSPITALAR LTDA                                          194\n",
       "JOSE DE ARIMATEA PORTO MARTINS - ME (LIVRARIA PEDRO II)             194\n",
       "CIRURGICA CAMPINENSE LTDA                                           190\n",
       "                                                                   ... \n",
       "CPA CONSULTORIA PEDAGÓGICA AVAÇADA LTDA                               0\n",
       "CPA PRODUCOES E EVENTOS                                               0\n",
       "NELSON DE OLIVEIRA ALVES - ME                                         0\n",
       "FRANCISCO RIBEIRO DA SILVA FILHO                                      0\n",
       "JOSENI TAVARES DE FIGUEIREDO                                          0\n",
       "CPM. DE EQUIPAMENTOS DE INFORMATICA BEZERRA LTDA                      0\n",
       "JOSENICE DE SALES PAIVA SILVA                                         0\n",
       "CPT CONSTRUTORA LTDA                                                  0\n",
       "NELSOMARIA PALETà RAMOS MACIEL                                        0\n",
       "NELSO CAVALCANTE ARRUDA                                               0\n",
       "NELSINETE DANTAS DE MEDEIROS                                          0\n",
       "NELSA REGINA NUNES GOMES                                              0\n",
       "NELPHARMA COMERCIO DE PRODUTOS QUIMICOS LTDA.                         0\n",
       "NELMA MARIA PESSOA C. MELO                                            0\n",
       "NELMA MARIA LTDA                                                      0\n",
       "FRANCISCO REGINALDO DUARTE                                            0\n",
       "CR CAMPOS DA FONSECA PRODUCOES E EVENTOS - ME                         0\n",
       "NELISANDRA CARDOZO DIAS                                               0\n",
       "FRANCISCO RANGEL DE SOUZA- ME                                         0\n",
       "NELICIO DE FARIAS FONSECA ME                                          0\n",
       "CR Campos da Fonseca Produções & Eventos - ME                         0\n",
       "CR ENERGIA E INFORMATICA EIRELI-EPP                                   0\n",
       "CR2 EQUIPAMENTO EIRELI                                                0\n",
       "NELFARMA MARIA DE LOUDES NEVES DA SILVA                               0\n",
       "NELFARMA Comércio de Produtos Químicos Ltda.                          0\n",
       "JOSENILDA CHIMENDES DA SILVA                                          0\n",
       "NELFARMA COMÉRCIO DE PRODUTOS QUÍMICOS L                              0\n",
       "FRANCISCO RAMOS DE MOURA                                              0\n",
       "NELFARMA COMÉRCIO DE PROD. QUÍMICOS LTDA                              0\n",
       "DATAPUBLIC - TECNOLOGIAA E SERVIÇOS EM INFORMÁTICA                    0\n",
       "Name: situacao_proposta, Length: 118733, dtype: int64"
      ]
     },
     "execution_count": 9,
     "metadata": {},
     "output_type": "execute_result"
    }
   ],
   "source": [
    "ave = lic.groupby('nome_proponente').situacao_proposta.agg(lambda g: g.eq('Vencedora').sum())\n",
    "ave.sort_values(ascending=False)"
   ]
  },
  {
   "cell_type": "code",
   "execution_count": 10,
   "metadata": {},
   "outputs": [],
   "source": [
    "mmmm = lic.groupby(['nome_proponente'])['situacao_proposta'].apply(lambda x: x[x.str.contains('Vencedora')].count())\n",
    "q = mmmm.sort_values(ascending=False)[:10]"
   ]
  },
  {
   "cell_type": "code",
   "execution_count": 11,
   "metadata": {},
   "outputs": [
    {
     "data": {
      "text/plain": [
       "nome_proponente\n",
       "CIRUFARMA COMERCIAL LTDA                                            928\n",
       "JOSE NERGINO SOBREIRA                                               367\n",
       "TECNOCENTER MATERIAIS MEDICOS HOSPITALARES LTDA                     361\n",
       "DROGAFONTE LTDA                                                     328\n",
       "RAIMUNDO ADELMAR FONSECA PIRES                                      321\n",
       "NNMED-DISTRIBUICAO, IMPORTACAO E EXPORTACAO DE MEDICAMENTOS LTDA    302\n",
       "CRM COMERCIAL LTDA                                                  301\n",
       "B J COMERCIO DE ALIMENTOS LTDA                                      296\n",
       "FIORI VEICOLO LTDA                                                  273\n",
       "COMERCIAL MEDEIROS LTDA                                             252\n",
       "Name: situacao_proposta, dtype: int64"
      ]
     },
     "execution_count": 11,
     "metadata": {},
     "output_type": "execute_result"
    }
   ],
   "source": [
    "q"
   ]
  },
  {
   "cell_type": "code",
   "execution_count": 12,
   "metadata": {},
   "outputs": [
    {
     "data": {
      "text/plain": [
       "Text(0.5, 0, 'Quantidade de licitações')"
      ]
     },
     "execution_count": 12,
     "metadata": {},
     "output_type": "execute_result"
    },
    {
     "data": {
      "image/png": "[encoded data removed]",
      "text/plain": [
       "<Figure size 432x288 with 1 Axes>"
      ]
     },
     "metadata": {
      "needs_background": "light"
     },
     "output_type": "display_data"
    }
   ],
   "source": [
    "q.plot(kind='barh', x='nome_proponente')\n",
    "plt.title(\"Top 10 das empresas que mais venceram licitação na PB\")\n",
    "plt.ylabel('Empresas')\n",
    "plt.xlabel('Quantidade de licitações')"
   ]
  },
  {
   "cell_type": "code",
   "execution_count": 13,
   "metadata": {},
   "outputs": [],
   "source": [
    "nnnn = lic.groupby(['nome_proponente'])['situacao_proposta'].apply(lambda x: x[x.str.contains('Perdedora')].count())\n",
    "r = nnnn.sort_values(ascending=False)[:10]"
   ]
  },
  {
   "cell_type": "code",
   "execution_count": 14,
   "metadata": {},
   "outputs": [
    {
     "data": {
      "text/plain": [
       "Text(0.5, 0, 'Quantidade de licitações')"
      ]
     },
     "execution_count": 14,
     "metadata": {},
     "output_type": "execute_result"
    },
    {
     "data": {
      "image/png": "[encoded data removed]",
      "text/plain": [
       "<Figure size 432x288 with 1 Axes>"
      ]
     },
     "metadata": {
      "needs_background": "light"
     },
     "output_type": "display_data"
    }
   ],
   "source": [
    "r.plot(kind='barh', x='nome_proponente')\n",
    "plt.title(\"Top 10 das empresas que mais perderam licitação na PB\")\n",
    "plt.ylabel('Empresas')\n",
    "plt.xlabel('Quantidade de licitações')"
   ]
  }
 ],
 "metadata": {
  "kernelspec": {
   "display_name": "Python 3",
   "language": "python",
   "name": "python3"
  },
  "language_info": {
   "codemirror_mode": {
    "name": "ipython",
    "version": 3
   },
   "file_extension": ".py",
   "mimetype": "text/x-python",
   "name": "python",
   "nbconvert_exporter": "python",
   "pygments_lexer": "ipython3",
   "version": "3.7.3"
  }
 },
 "nbformat": 4,
 "nbformat_minor": 2
}
