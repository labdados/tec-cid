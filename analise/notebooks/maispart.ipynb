{
 "cells": [
  {
   "cell_type": "code",
   "execution_count": 1,
   "metadata": {},
   "outputs": [],
   "source": [
    "import pandas as pd\n",
    "import matplotlib.pyplot as plt"
   ]
  },
  {
   "cell_type": "code",
   "execution_count": 2,
   "metadata": {},
   "outputs": [],
   "source": [
    "lic = pd.read_csv(\"propostas_licitacao.txt\", sep=\"|\", dtype={'cod_unidade_gestora': int,'numero_licitacao': str,'cod_tipo_licitacao': int,\n",
    "                                                   'qtd_ofertada': int,'unidade_gestora': str, 'tipo_licitacao': str, \n",
    "                                                   'cpf_cnpj': str,'nome_proponente': str, 'situacao_proposta': str})"
   ]
  },
  {
   "cell_type": "code",
   "execution_count": 5,
   "metadata": {},
   "outputs": [],
   "source": [
    "oo = lic.groupby('nome_proponente').situacao_proposta.agg(lambda g: g.eq('Vencedora', 'Perdedora').sum())"
   ]
  },
  {
   "cell_type": "code",
   "execution_count": 8,
   "metadata": {
    "scrolled": true
   },
   "outputs": [
    {
     "data": {
      "text/plain": [
       "nome_proponente\n",
       "CIRUFARMA COMERCIAL LTDA                                            928\n",
       "JOSE NERGINO SOBREIRA                                               367\n",
       "TECNOCENTER MATERIAIS MEDICOS HOSPITALARES LTDA                     361\n",
       "DROGAFONTE LTDA                                                     328\n",
       "RAIMUNDO ADELMAR FONSECA PIRES                                      321\n",
       "NNMED-DISTRIBUICAO, IMPORTACAO E EXPORTACAO DE MEDICAMENTOS LTDA    302\n",
       "CRM COMERCIAL LTDA                                                  301\n",
       "B J COMERCIO DE ALIMENTOS LTDA                                      296\n",
       "FIORI VEICOLO LTDA                                                  273\n",
       "COMERCIAL MEDEIROS LTDA                                             252\n",
       "Name: situacao_proposta, dtype: int64"
      ]
     },
     "execution_count": 8,
     "metadata": {},
     "output_type": "execute_result"
    }
   ],
   "source": [
    "oo.sort_values(ascending=False)[:10]"
   ]
  }
 ],
 "metadata": {
  "kernelspec": {
   "display_name": "Python 3",
   "language": "python",
   "name": "python3"
  },
  "language_info": {
   "codemirror_mode": {
    "name": "ipython",
    "version": 3
   },
   "file_extension": ".py",
   "mimetype": "text/x-python",
   "name": "python",
   "nbconvert_exporter": "python",
   "pygments_lexer": "ipython3",
   "version": "3.7.3"
  }
 },
 "nbformat": 4,
 "nbformat_minor": 2
}
