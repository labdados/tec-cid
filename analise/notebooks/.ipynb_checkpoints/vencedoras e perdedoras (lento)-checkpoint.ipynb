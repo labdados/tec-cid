{
 "cells": [
  {
   "cell_type": "code",
   "execution_count": 10,
   "metadata": {},
   "outputs": [],
   "source": [
    "import pandas as pd\n",
    "import matplotlib.pyplot as plt"
   ]
  },
  {
   "cell_type": "code",
   "execution_count": 11,
   "metadata": {},
   "outputs": [],
   "source": [
    "lic = pd.read_csv(\"propostas_licitacao.txt\", sep=\"|\", dtype={'cod_unidade_gestora': int,'numero_licitacao': str,'cod_tipo_licitacao': int,\n",
    "                                                   'qtd_ofertada': int,'unidade_gestora': str, 'tipo_licitacao': str, \n",
    "                                                   'cpf_cnpj': str,'nome_proponente': str, 'situacao_proposta': str})"
   ]
  },
  {
   "cell_type": "code",
   "execution_count": 12,
   "metadata": {},
   "outputs": [
    {
     "data": {
      "text/plain": [
       "nome_proponente\n",
       "CIRUFARMA COMERCIAL LTDA                                            928\n",
       "JOSE NERGINO SOBREIRA                                               367\n",
       "TECNOCENTER MATERIAIS MEDICOS HOSPITALARES LTDA                     361\n",
       "DROGAFONTE LTDA                                                     328\n",
       "RAIMUNDO ADELMAR FONSECA PIRES                                      321\n",
       "NNMED-DISTRIBUICAO, IMPORTACAO E EXPORTACAO DE MEDICAMENTOS LTDA    302\n",
       "CRM COMERCIAL LTDA                                                  301\n",
       "B J COMERCIO DE ALIMENTOS LTDA                                      296\n",
       "FIORI VEICOLO LTDA                                                  273\n",
       "COMERCIAL MEDEIROS LTDA                                             252\n",
       "Name: situacao_proposta, dtype: int64"
      ]
     },
     "execution_count": 12,
     "metadata": {},
     "output_type": "execute_result"
    }
   ],
   "source": [
    "vencedoras = lic.groupby(['nome_proponente'])['situacao_proposta'].apply(lambda x: x[x.str.contains('Vencedora')].count())\n",
    "vencedoras.sort_values(ascending=False)[:10]"
   ]
  },
  {
   "cell_type": "code",
   "execution_count": null,
   "metadata": {},
   "outputs": [],
   "source": [
    "vencedoras.plot(kind='barh', x='nome_proponente').invert_yaxis()\n",
    "plt.title(\"Top 10 das empresas que mais venceram licitação na PB\")\n",
    "plt.ylabel('Empresas')\n",
    "plt.xlabel('Quantidade de licitações')"
   ]
  },
  {
   "cell_type": "code",
   "execution_count": null,
   "metadata": {},
   "outputs": [],
   "source": [
    "perdedoras = lic.groupby(['nome_proponente'])['situacao_proposta'].apply(lambda x: x[x.str.contains('Perdedora')].count())\n",
    "perdedoras.sort_values(ascending=False)[:10]"
   ]
  },
  {
   "cell_type": "code",
   "execution_count": null,
   "metadata": {},
   "outputs": [],
   "source": [
    "perdedoras.plot(kind='barh', x='nome_proponente').invert_yaxis()\n",
    "plt.title(\"Top 10 das empresas que mais perderam licitação na PB\")\n",
    "plt.ylabel('Empresas')\n",
    "plt.xlabel('Quantidade de licitações')"
   ]
  }
 ],
 "metadata": {
  "kernelspec": {
   "display_name": "Python 3",
   "language": "python",
   "name": "python3"
  },
  "language_info": {
   "codemirror_mode": {
    "name": "ipython",
    "version": 3
   },
   "file_extension": ".py",
   "mimetype": "text/x-python",
   "name": "python",
   "nbconvert_exporter": "python",
   "pygments_lexer": "ipython3",
   "version": "3.7.3"
  }
 },
 "nbformat": 4,
 "nbformat_minor": 2
}
