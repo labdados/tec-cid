{
 "cells": [
  {
   "cell_type": "code",
   "execution_count": 1,
   "metadata": {},
   "outputs": [],
   "source": [
    "import pandas as pd\n",
    "import matplotlib.pyplot as plt"
   ]
  },
  {
   "cell_type": "code",
   "execution_count": 2,
   "metadata": {},
   "outputs": [],
   "source": [
    "lic = pd.read_csv(\"propostas_licitacao.txt\", sep=\"|\", dtype={'cod_unidade_gestora': int,'numero_licitacao': str,'cod_tipo_licitacao': int,\n",
    "                                                   'qtd_ofertada': int,'unidade_gestora': str, 'tipo_licitacao': str, \n",
    "                                                   'cpf_cnpj': str,'nome_proponente': str, 'situacao_proposta': str})"
   ]
  },
  {
   "cell_type": "code",
   "execution_count": 4,
   "metadata": {},
   "outputs": [
    {
     "data": {
      "text/plain": [
       "nome_proponente\n",
       "(CONQUISTA) - COMERCIO DE EQUIPAMENTOS LTDA                                    1\n",
       "/MARIA JOSÉ FAUSTINO DOS SANTOS                                                1\n",
       "0 e L RENT CAR LOCADORA DE VEILULO                                             2\n",
       "01 - GABINETE DO PREFEITO.                                                     1\n",
       "08525867000172                                                                 1\n",
       "1 CARTORIO CAMPINA GRANDE, 2 CARTO. CAMPINA GRANDE E OUTROS                    1\n",
       "1001 IDEIAS - ARMANDO RODRIGUES DE OLIVEIRA                                   17\n",
       "1001 IDEIAS MARKETING,PRODUCOES PUBLIC.ARMANDO R.OLIVEIRA                      2\n",
       "1001 IDÉIAS - ARMANDO RODRIGUES DE OLIVEIRA                                    4\n",
       "1001 IDÉIAS PRODUÇÕES                                                          1\n",
       "1001 SERVICOS ENGENHARIA E CONSTRUCAO LTDA                                    14\n",
       "1001 SERVICOS ENGENHARIA E CONSTRUCAO LTDA - EPP                               3\n",
       "1001 SERVIÇOS , ENGENHARIA E CONSTRUCAO LTDA.                                  1\n",
       "1001 SERVIÇOS DE ENGENHARIA E CONSTRUÇÃO LTDA                                  4\n",
       "1001 SERVIÇOS ENGENHARIA E CONSTRUÇOES LTDA - EPP                              2\n",
       "1001 SERVIÇOS ENGENHARIA E CONSTRUÇÃO LTDA                                     7\n",
       "1001 SERVIÇOS ENGENHARIA E CONSTRUÇÃO LTDA - EPP                               1\n",
       "1001 SERVIÇOS ENGENHARIA LTDA                                                 16\n",
       "1001 Serviços Engenharia e Construção Ltda                                     8\n",
       "1001 Serviços de Engenharia Ltda                                               1\n",
       "1001 ideias producoes e eventos                                                1\n",
       "104 FILMES LTDA-ME                                                             1\n",
       "10ENVOLVE DESIGN E COMUNICAÇÃO LTDA                                            1\n",
       "13 DE MAIO VEICULOS E NEGOCIOS LTDA                                            3\n",
       "13 DE MAIO VEICULOS E NEGOCIOS LTDA.                                           1\n",
       "18 GIGAS COMERCIO DE EQUIPAMENTOS - EIRELI-ME                                  6\n",
       "1Alexandre Pinheiro da Silva                                                   1\n",
       "1Amauri Plácido da Silva Filho                                                 4\n",
       "1Artemys Vivian de Sousa Silva                                                 1\n",
       "1Gabriela Brás Santos                                                          1\n",
       "                                                                              ..\n",
       "ÉLIO RIBEIRO DE MORAIS                                                         4\n",
       "ÉLSON SINFRÔNIO PEREIRA- PAGODÃO SENSUART                                      1\n",
       "ÉPURA ENGENHARIA LTDA                                                          3\n",
       "ÉPURA ENGENHARIA LTDA - EPP                                                    1\n",
       "ÉRICA DIAS LEITE                                                               1\n",
       "ÉRICA MARIA OLIVEIRA COELHO                                                    7\n",
       "ÉVIO BARBOSA DE LUCENA                                                         1\n",
       "Élson Matias da Silva                                                          1\n",
       "ÊNFASE - MARKETING, PRODUÇÕES E EVENTOS LTDA                                   1\n",
       "ÊXITO DISTRIBUIDORA DE MEDICAMENTOS E MATERIAL MEDICO-HOSPITALAR LTDA - ME     1\n",
       "ÊXITO MONTAGENS E COMERCIO LTDA                                                1\n",
       "ÊXITO PROJEÇÕES E EVENTOS LTDA                                                 2\n",
       "Ênio Silva Nascimento                                                          1\n",
       "Êxito Construtora e Incorporações Ltda                                         2\n",
       "Êxito Engenharia Civil e Segurança do Trabalho Ltda                            2\n",
       "ÍRIO DANTAS DA NÓBREGA                                                         4\n",
       "ÍTALO DE OLIVEIRA LACERDA                                                      1\n",
       "ÍTALO FARIAS DO NASCIMENTO                                                     2\n",
       "ÍTALO GARCIA DE SOUSA                                                          1\n",
       "ÍTALO HUGO LEITE BRITO                                                         1\n",
       "ÍTALO MARQUES COSTA-ME                                                         1\n",
       "ÓTICA BOM LUGAR LTDA                                                           1\n",
       "ÓTICA JOÃO PESSOA  JOSE ADEMAR DOS SANTOS                                      2\n",
       "ÓTICA LINHARES  FRANCISCO JL DE OLIVEIRA                                       1\n",
       "ÓTICA MODELO LTDA                                                              2\n",
       "ÓTICA PUPILA LTDA                                                              2\n",
       "ÓTICA PUPILA LTDA.                                                             1\n",
       "ÓTICA TOTAL - STELAMARIS ALMEIDA VELOZO DE ANDRADE                             2\n",
       "ÓTICA VERONESE - MARTINS COMÉRCIO DE PRODUTOS ÓTICOS LTDA                      2\n",
       "Ótica Central Ltda                                                             2\n",
       "Name: situacao_proposta, Length: 118733, dtype: int64"
      ]
     },
     "execution_count": 4,
     "metadata": {},
     "output_type": "execute_result"
    }
   ],
   "source": [
    "mais_participa = lic.groupby('nome_proponente').situacao_proposta.agg(lambda g: g.eq('Vencedora', 'Perdedora').count())\n",
    "mais_participa"
   ]
  },
  {
   "cell_type": "code",
   "execution_count": 9,
   "metadata": {
    "scrolled": true
   },
   "outputs": [
    {
     "data": {
      "text/plain": [
       "nome_proponente\n",
       "CIRUFARMA COMERCIAL LTDA                           985\n",
       "RAIMUNDO ADELMAR FONSECA PIRES                     488\n",
       "PNEUMAX LTDA                                       461\n",
       "JOSE NERGINO SOBREIRA                              395\n",
       "TECNOCENTER MATERIAIS MEDICOS HOSPITALARES LTDA    389\n",
       "VENDE TUDO MAGAZINE LTDA                           343\n",
       "DROGAFONTE LTDA                                    338\n",
       "B J COMERCIO DE ALIMENTOS LTDA                     328\n",
       "COMERCIAL MEDEIROS LTDA                            328\n",
       "CRM COMERCIAL LTDA                                 327\n",
       "Name: situacao_proposta, dtype: int64"
      ]
     },
     "execution_count": 9,
     "metadata": {},
     "output_type": "execute_result"
    }
   ],
   "source": [
    "mp = mais_participa.sort_values(ascending=False)[:10]\n",
    "mp"
   ]
  },
  {
   "cell_type": "code",
   "execution_count": 10,
   "metadata": {},
   "outputs": [
    {
     "data": {
      "text/plain": [
       "Text(0.5, 0, 'Quantidade de participações')"
      ]
     },
     "execution_count": 10,
     "metadata": {},
     "output_type": "execute_result"
    },
    {
     "data": {
      "image/png": "[encoded data removed]",
      "text/plain": [
       "<Figure size 432x288 with 1 Axes>"
      ]
     },
     "metadata": {
      "needs_background": "light"
     },
     "output_type": "display_data"
    }
   ],
   "source": [
    "mp.plot(kind='barh', x='nome_proponente').invert_yaxis()\n",
    "plt.title(\"Top 10 das empresas que mais participaram de licitação na PB\")\n",
    "plt.ylabel('Empresas')\n",
    "plt.xlabel('Quantidade de participações')"
   ]
  }
 ],
 "metadata": {
  "kernelspec": {
   "display_name": "Python 3",
   "language": "python",
   "name": "python3"
  },
  "language_info": {
   "codemirror_mode": {
    "name": "ipython",
    "version": 3
   },
   "file_extension": ".py",
   "mimetype": "text/x-python",
   "name": "python",
   "nbconvert_exporter": "python",
   "pygments_lexer": "ipython3",
   "version": "3.7.3"
  }
 },
 "nbformat": 4,
 "nbformat_minor": 2
}
