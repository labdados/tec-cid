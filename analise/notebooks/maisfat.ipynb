{
 "cells": [
  {
   "cell_type": "code",
   "execution_count": 2,
   "metadata": {},
   "outputs": [],
   "source": [
    "import pandas as pd\n",
    "import matplotlib.pyplot as plt"
   ]
  },
  {
   "cell_type": "code",
   "execution_count": 3,
   "metadata": {},
   "outputs": [],
   "source": [
    "lic = pd.read_csv(\"propostas_licitacao.txt\", sep=\"|\", dtype={'cod_unidade_gestora': int,'numero_licitacao': str,'cod_tipo_licitacao': int,\n",
    "                                                   'qtd_ofertada': int,'unidade_gestora': str, 'tipo_licitacao': str, \n",
    "                                                   'cpf_cnpj': str,'nome_proponente': str, 'situacao_proposta': str})"
   ]
  },
  {
   "cell_type": "code",
   "execution_count": 4,
   "metadata": {},
   "outputs": [],
   "source": [
    "c = lic.groupby(['nome_proponente','valor_ofertado']).situacao_proposta.agg(lambda g: g.eq('Vencedora').sum())"
   ]
  },
  {
   "cell_type": "code",
   "execution_count": 5,
   "metadata": {},
   "outputs": [
    {
     "data": {
      "text/plain": [
       "nome_proponente                                                             valor_ofertado\n",
       "(CONQUISTA) - COMERCIO DE EQUIPAMENTOS LTDA                                 156834.00         1\n",
       "/MARIA JOSÉ FAUSTINO DOS SANTOS                                             19005.00          0\n",
       "0 e L RENT CAR LOCADORA DE VEILULO                                          18000.00          1\n",
       "                                                                            20700.00          1\n",
       "01 - GABINETE DO PREFEITO.                                                  39000.00          1\n",
       "08525867000172                                                              78500.00          0\n",
       "1 CARTORIO CAMPINA GRANDE, 2 CARTO. CAMPINA GRANDE E OUTROS                 39360.00          1\n",
       "1001 IDEIAS - ARMANDO RODRIGUES DE OLIVEIRA                                 14920.00          0\n",
       "                                                                            16750.00          0\n",
       "                                                                            21000.00          1\n",
       "                                                                            25000.00          1\n",
       "                                                                            28600.00          1\n",
       "                                                                            32110.00          1\n",
       "                                                                            35000.00          1\n",
       "                                                                            39000.00          1\n",
       "                                                                            49000.00          1\n",
       "                                                                            49500.00          1\n",
       "                                                                            50000.00          1\n",
       "                                                                            55000.00          2\n",
       "                                                                            56000.00          1\n",
       "                                                                            57000.00          1\n",
       "                                                                            145000.00         1\n",
       "1001 IDEIAS MARKETING,PRODUCOES PUBLIC.ARMANDO R.OLIVEIRA                   70000.00          1\n",
       "                                                                            74000.00          1\n",
       "1001 IDÉIAS - ARMANDO RODRIGUES DE OLIVEIRA                                 9700.00           1\n",
       "                                                                            26000.00          0\n",
       "                                                                            34300.00          1\n",
       "                                                                            65100.00          0\n",
       "1001 IDÉIAS PRODUÇÕES                                                       58000.00          1\n",
       "1001 SERVICOS ENGENHARIA E CONSTRUCAO LTDA                                  23368.21          0\n",
       "                                                                                             ..\n",
       "ÊXITO DISTRIBUIDORA DE MEDICAMENTOS E MATERIAL MEDICO-HOSPITALAR LTDA - ME  20626.29          1\n",
       "ÊXITO MONTAGENS E COMERCIO LTDA                                             5816.07           0\n",
       "ÊXITO PROJEÇÕES E EVENTOS LTDA                                              198750.00         0\n",
       "Ênio Silva Nascimento                                                       36000.00          1\n",
       "Êxito Construtora e Incorporações Ltda                                      137977.92         0\n",
       "                                                                            146297.63         0\n",
       "Êxito Engenharia Civil e Segurança do Trabalho Ltda                         24800.00          0\n",
       "ÍRIO DANTAS DA NÓBREGA                                                      20700.00          1\n",
       "                                                                            25300.00          0\n",
       "                                                                            27600.00          1\n",
       "                                                                            30000.00          1\n",
       "ÍTALO DE OLIVEIRA LACERDA                                                   3000.00           1\n",
       "ÍTALO FARIAS DO NASCIMENTO                                                  32700.00          0\n",
       "                                                                            65700.00          0\n",
       "ÍTALO GARCIA DE SOUSA                                                       3220.00           1\n",
       "ÍTALO HUGO LEITE BRITO                                                      4800.00           0\n",
       "ÍTALO MARQUES COSTA-ME                                                      20800.00          0\n",
       "ÓTICA BOM LUGAR LTDA                                                        87740.00          1\n",
       "ÓTICA JOÃO PESSOA  JOSE ADEMAR DOS SANTOS                                   76030.00          0\n",
       "                                                                            78750.00          0\n",
       "ÓTICA LINHARES  FRANCISCO JL DE OLIVEIRA                                    46662.00          0\n",
       "ÓTICA MODELO LTDA                                                           70050.00          0\n",
       "ÓTICA PUPILA LTDA                                                           7656.00           1\n",
       "                                                                            77180.60          1\n",
       "ÓTICA PUPILA LTDA.                                                          4206.00           1\n",
       "ÓTICA TOTAL - STELAMARIS ALMEIDA VELOZO DE ANDRADE                          69000.00          0\n",
       "                                                                            71760.00          0\n",
       "ÓTICA VERONESE - MARTINS COMÉRCIO DE PRODUTOS ÓTICOS LTDA                   67500.00          0\n",
       "                                                                            85500.00          0\n",
       "Ótica Central Ltda                                                          65370.00          0\n",
       "Name: situacao_proposta, Length: 400680, dtype: int64"
      ]
     },
     "execution_count": 5,
     "metadata": {},
     "output_type": "execute_result"
    }
   ],
   "source": [
    "c"
   ]
  },
  {
   "cell_type": "code",
   "execution_count": 6,
   "metadata": {},
   "outputs": [],
   "source": [
    "w = lic.groupby('nome_proponente').situacao_proposta.agg(lambda g: g.eq('Vencedora').sum())"
   ]
  },
  {
   "cell_type": "code",
   "execution_count": 9,
   "metadata": {},
   "outputs": [],
   "source": [
    "s = w.groupby(lic['valor_ofertado'])"
   ]
  },
  {
   "cell_type": "code",
   "execution_count": 11,
   "metadata": {},
   "outputs": [
    {
     "data": {
      "text/plain": [
       "Series([], Name: situacao_proposta, dtype: int64)"
      ]
     },
     "execution_count": 11,
     "metadata": {},
     "output_type": "execute_result"
    }
   ],
   "source": [
    "s.sum()"
   ]
  }
 ],
 "metadata": {
  "kernelspec": {
   "display_name": "Python 3",
   "language": "python",
   "name": "python3"
  },
  "language_info": {
   "codemirror_mode": {
    "name": "ipython",
    "version": 3
   },
   "file_extension": ".py",
   "mimetype": "text/x-python",
   "name": "python",
   "nbconvert_exporter": "python",
   "pygments_lexer": "ipython3",
   "version": "3.7.3"
  }
 },
 "nbformat": 4,
 "nbformat_minor": 2
}
