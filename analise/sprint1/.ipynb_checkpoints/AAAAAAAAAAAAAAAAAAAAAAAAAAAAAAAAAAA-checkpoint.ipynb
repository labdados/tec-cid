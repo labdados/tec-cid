{
 "cells": [
  {
   "cell_type": "code",
   "execution_count": 1,
   "metadata": {},
   "outputs": [],
   "source": [
    "import pandas as pd\n",
    "import matplotlib.pyplot as plt"
   ]
  },
  {
   "cell_type": "code",
   "execution_count": 2,
   "metadata": {},
   "outputs": [],
   "source": [
    "lic = pd.read_csv(\"propostas_licitacao.txt\", sep=\"|\", dtype={'cod_unidade_gestora': int,'numero_licitacao': str,'cod_tipo_licitacao': int,\n",
    "                                                   'qtd_ofertada': int,'unidade_gestora': str, 'tipo_licitacao': str, \n",
    "                                                   'cpf_cnpj': str,'nome_proponente': str, 'situacao_proposta': str})"
   ]
  },
  {
   "cell_type": "code",
   "execution_count": 13,
   "metadata": {},
   "outputs": [],
   "source": [
    "c = lic.groupby(['nome_proponente','numero_licitacao']).situacao_proposta.agg(lambda g: g.eq('Vencedora','Perdedora').sum())"
   ]
  },
  {
   "cell_type": "code",
   "execution_count": 14,
   "metadata": {},
   "outputs": [
    {
     "data": {
      "text/plain": [
       "nome_proponente                                              numero_licitacao\n",
       "(CONQUISTA) - COMERCIO DE EQUIPAMENTOS LTDA                  000012010           1\n",
       "/MARIA JOSÉ FAUSTINO DOS SANTOS                              000172012           0\n",
       "0 e L RENT CAR LOCADORA DE VEILULO                           000012015           1\n",
       "                                                             000012016           1\n",
       "01 - GABINETE DO PREFEITO.                                   000252017           1\n",
       "08525867000172                                               000032013           0\n",
       "1 CARTORIO CAMPINA GRANDE, 2 CARTO. CAMPINA GRANDE E OUTROS  000222005           1\n",
       "1001 IDEIAS - ARMANDO RODRIGUES DE OLIVEIRA                  000022005           1\n",
       "                                                             000022010           1\n",
       "                                                             000032011           1\n",
       "                                                             000042011           1\n",
       "                                                             000062006           1\n",
       "                                                             000072005           1\n",
       "                                                             000102005           1\n",
       "                                                             000102007           1\n",
       "                                                             000102009           1\n",
       "                                                             000122005           1\n",
       "                                                             000122006           1\n",
       "                                                             000162006           1\n",
       "                                                             000162010           1\n",
       "                                                             000162011           0\n",
       "                                                             000212007           1\n",
       "                                                             000292007           0\n",
       "                                                             000422009           0\n",
       "1001 IDEIAS MARKETING,PRODUCOES PUBLIC.ARMANDO R.OLIVEIRA    000012005           1\n",
       "                                                             000022005           1\n",
       "1001 IDÉIAS - ARMANDO RODRIGUES DE OLIVEIRA                  000022006           1\n",
       "                                                             000072006           1\n",
       "                                                             000402006           0\n",
       "                                                             000492005           0\n",
       "                                                                                ..\n",
       "ÊXITO PROJEÇÕES E EVENTOS LTDA                               000162016           0\n",
       "Ênio Silva Nascimento                                        000012018           1\n",
       "Êxito Construtora e Incorporações Ltda                       000022012           0\n",
       "                                                             000042012           0\n",
       "Êxito Engenharia Civil e Segurança do Trabalho Ltda          300132006           0\n",
       "ÍRIO DANTAS DA NÓBREGA                                       000012007           0\n",
       "                                                             000012013           1\n",
       "                                                             000022014           1\n",
       "                                                             000022015           1\n",
       "ÍTALO DE OLIVEIRA LACERDA                                    000252017           1\n",
       "ÍTALO FARIAS DO NASCIMENTO                                   062412011           0\n",
       "                                                             062422011           0\n",
       "ÍTALO GARCIA DE SOUSA                                        000022012           1\n",
       "ÍTALO HUGO LEITE BRITO                                       000362012           0\n",
       "ÍTALO MARQUES COSTA-ME                                       000022013           0\n",
       "ÓTICA BOM LUGAR LTDA                                         000092004           1\n",
       "ÓTICA JOÃO PESSOA  JOSE ADEMAR DOS SANTOS                    000352010           0\n",
       "                                                             000622009           0\n",
       "ÓTICA LINHARES  FRANCISCO JL DE OLIVEIRA                     000062008           0\n",
       "ÓTICA MODELO LTDA                                            000152003           0\n",
       "                                                             000162002           0\n",
       "ÓTICA PUPILA LTDA                                            000222006           1\n",
       "                                                             000562006           1\n",
       "ÓTICA PUPILA LTDA.                                           500072008           1\n",
       "ÓTICA TOTAL - STELAMARIS ALMEIDA VELOZO DE ANDRADE           000072009           0\n",
       "                                                             000112006           0\n",
       "ÓTICA VERONESE - MARTINS COMÉRCIO DE PRODUTOS ÓTICOS LTDA    000112006           0\n",
       "                                                             000162010           0\n",
       "Ótica Central Ltda                                           000152003           0\n",
       "                                                             000162002           1\n",
       "Name: situacao_proposta, Length: 412293, dtype: int64"
      ]
     },
     "execution_count": 14,
     "metadata": {},
     "output_type": "execute_result"
    }
   ],
   "source": [
    "c"
   ]
  },
  {
   "cell_type": "code",
   "execution_count": 5,
   "metadata": {},
   "outputs": [
    {
     "data": {
      "text/plain": [
       "nome_proponente\n",
       "CIRUFARMA COMERCIAL LTDA                                            928\n",
       "JOSE NERGINO SOBREIRA                                               367\n",
       "TECNOCENTER MATERIAIS MEDICOS HOSPITALARES LTDA                     361\n",
       "DROGAFONTE LTDA                                                     328\n",
       "RAIMUNDO ADELMAR FONSECA PIRES                                      321\n",
       "NNMED-DISTRIBUICAO, IMPORTACAO E EXPORTACAO DE MEDICAMENTOS LTDA    302\n",
       "CRM COMERCIAL LTDA                                                  301\n",
       "B J COMERCIO DE ALIMENTOS LTDA                                      296\n",
       "FIORI VEICOLO LTDA                                                  273\n",
       "COMERCIAL MEDEIROS LTDA                                             252\n",
       "ELMAR PROCESSAMENTO DE DADOS LTDA                                   252\n",
       "EDILANE DA COSTA CARVALHO                                           248\n",
       "VENDE TUDO MAGAZINE LTDA                                            242\n",
       "CELIA FRANCISCO DE CARVALHO                                         240\n",
       "LEIA COMERCIAL DE LIVROS E MAGAZINE LTDA                            236\n",
       "PNEUMAX LTDA                                                        230\n",
       "DENTALMED COMERCIO E REP LTDA                                       225\n",
       "FARMAGUEDES                                                         221\n",
       "IRAMILTON SATIRO DA NOBREGA                                         219\n",
       "NORDESTE HOSPITALAR LTDA                                            214\n",
       "PONTUAL DISTRIBUIDORA DE MEDICAMENTOS LTDA                          212\n",
       "LECITA COMÉRCIO DE MATERIAL PARA ESCRITÓRIO LTDA                    209\n",
       "THOMAS JOSE BELTRAO DE ARAUJO ALBUQUERQUE - ME                      204\n",
       "JOSE WALTER DA COSTA ME - J C PRODUÇÕES                             201\n",
       "ASTEC GROUP CONTADORES ASSOCIADOS S/S LTDA                          200\n",
       "SANTOS & LUCENA LTDA                                                195\n",
       "FRANCISCO AUGUSTO SANTOS BRASIL  - VIA BRASIL PAPELARIA             195\n",
       "MEDFARMACY HOSPITALAR LTDA                                          194\n",
       "JOSE DE ARIMATEA PORTO MARTINS - ME (LIVRARIA PEDRO II)             194\n",
       "CIRURGICA CAMPINENSE LTDA                                           190\n",
       "                                                                   ... \n",
       "CPA CONSULTORIA PEDAGÓGICA AVAÇADA LTDA                               0\n",
       "CPA PRODUCOES E EVENTOS                                               0\n",
       "NELSON DE OLIVEIRA ALVES - ME                                         0\n",
       "FRANCISCO RIBEIRO DA SILVA FILHO                                      0\n",
       "JOSENI TAVARES DE FIGUEIREDO                                          0\n",
       "CPM. DE EQUIPAMENTOS DE INFORMATICA BEZERRA LTDA                      0\n",
       "JOSENICE DE SALES PAIVA SILVA                                         0\n",
       "CPT CONSTRUTORA LTDA                                                  0\n",
       "NELSOMARIA PALETà RAMOS MACIEL                                        0\n",
       "NELSO CAVALCANTE ARRUDA                                               0\n",
       "NELSINETE DANTAS DE MEDEIROS                                          0\n",
       "NELSA REGINA NUNES GOMES                                              0\n",
       "NELPHARMA COMERCIO DE PRODUTOS QUIMICOS LTDA.                         0\n",
       "NELMA MARIA PESSOA C. MELO                                            0\n",
       "NELMA MARIA LTDA                                                      0\n",
       "FRANCISCO REGINALDO DUARTE                                            0\n",
       "CR CAMPOS DA FONSECA PRODUCOES E EVENTOS - ME                         0\n",
       "NELISANDRA CARDOZO DIAS                                               0\n",
       "FRANCISCO RANGEL DE SOUZA- ME                                         0\n",
       "NELICIO DE FARIAS FONSECA ME                                          0\n",
       "CR Campos da Fonseca Produções & Eventos - ME                         0\n",
       "CR ENERGIA E INFORMATICA EIRELI-EPP                                   0\n",
       "CR2 EQUIPAMENTO EIRELI                                                0\n",
       "NELFARMA MARIA DE LOUDES NEVES DA SILVA                               0\n",
       "NELFARMA Comércio de Produtos Químicos Ltda.                          0\n",
       "JOSENILDA CHIMENDES DA SILVA                                          0\n",
       "NELFARMA COMÉRCIO DE PRODUTOS QUÍMICOS L                              0\n",
       "FRANCISCO RAMOS DE MOURA                                              0\n",
       "NELFARMA COMÉRCIO DE PROD. QUÍMICOS LTDA                              0\n",
       "DATAPUBLIC - TECNOLOGIAA E SERVIÇOS EM INFORMÁTICA                    0\n",
       "Name: situacao_proposta, Length: 118733, dtype: int64"
      ]
     },
     "execution_count": 5,
     "metadata": {},
     "output_type": "execute_result"
    }
   ],
   "source": [
    "c.sort_values(ascending=False)"
   ]
  },
  {
   "cell_type": "code",
   "execution_count": 15,
   "metadata": {},
   "outputs": [],
   "source": [
    "y = lic.groupby('nome_proponente').situacao_proposta.agg(lambda g: g.eq('Vencedora','Perdedora').sum())"
   ]
  },
  {
   "cell_type": "code",
   "execution_count": 16,
   "metadata": {},
   "outputs": [
    {
     "data": {
      "text/plain": [
       "nome_proponente\n",
       "CIRUFARMA COMERCIAL LTDA                                            928\n",
       "JOSE NERGINO SOBREIRA                                               367\n",
       "TECNOCENTER MATERIAIS MEDICOS HOSPITALARES LTDA                     361\n",
       "DROGAFONTE LTDA                                                     328\n",
       "RAIMUNDO ADELMAR FONSECA PIRES                                      321\n",
       "NNMED-DISTRIBUICAO, IMPORTACAO E EXPORTACAO DE MEDICAMENTOS LTDA    302\n",
       "CRM COMERCIAL LTDA                                                  301\n",
       "B J COMERCIO DE ALIMENTOS LTDA                                      296\n",
       "FIORI VEICOLO LTDA                                                  273\n",
       "COMERCIAL MEDEIROS LTDA                                             252\n",
       "Name: situacao_proposta, dtype: int64"
      ]
     },
     "execution_count": 16,
     "metadata": {},
     "output_type": "execute_result"
    }
   ],
   "source": [
    "y.sort_values(ascending=False)[:10]"
   ]
  },
  {
   "cell_type": "code",
   "execution_count": null,
   "metadata": {},
   "outputs": [],
   "source": [
    "y.plot(kind='barh', x='nome_proponente').invert_yaxis()\n",
    "plt.title(\"Top 10 das empresas que mais participaram de licitação na PB\")\n",
    "plt.ylabel('Empresas')\n",
    "plt.xlabel('Quantidade de licitações')"
   ]
  }
 ],
 "metadata": {
  "kernelspec": {
   "display_name": "Python 3",
   "language": "python",
   "name": "python3"
  },
  "language_info": {
   "codemirror_mode": {
    "name": "ipython",
    "version": 3
   },
   "file_extension": ".py",
   "mimetype": "text/x-python",
   "name": "python",
   "nbconvert_exporter": "python",
   "pygments_lexer": "ipython3",
   "version": "3.7.3"
  }
 },
 "nbformat": 4,
 "nbformat_minor": 2
}
